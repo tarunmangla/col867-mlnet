{
 "cells": [
  {
   "cell_type": "code",
   "execution_count": 3,
   "id": "f40573ad-b232-4418-bdcf-e0f5eeace2e6",
   "metadata": {},
   "outputs": [],
   "source": [
    "import pandas as pd\n",
    "import numpy as np\n",
    "from sklearn.mixture import GaussianMixture\n",
    "from sklearn.ensemble import IsolationForest\n",
    "from sklearn.cluster import KMeans\n",
    "import seaborn as sns\n",
    "from glob import glob\n",
    "import matplotlib.pyplot as plt\n",
    "from sklearn.preprocessing import StandardScaler\n",
    "from sklearn.metrics import precision_recall_curve, auc"
   ]
  },
  {
   "cell_type": "code",
   "execution_count": 4,
   "id": "0d0cd961-3234-40b7-8143-c70729cd3610",
   "metadata": {},
   "outputs": [],
   "source": [
    "# Get list of all CSV files \n",
    "files = glob(\"data/CIC-IDS-2017/MachineLearningCVE/*.csv\")"
   ]
  },
  {
   "cell_type": "markdown",
   "id": "cf44b76e-b2f2-41bb-96f1-66e174186325",
   "metadata": {},
   "source": [
    "## Step 1: Data exploration"
   ]
  },
  {
   "cell_type": "code",
   "execution_count": 5,
   "id": "6f0b6b0e-2f42-4ce3-bb24-711a40feebcb",
   "metadata": {},
   "outputs": [],
   "source": [
    "def read_data(fname):\n",
    "    df = pd.read_csv(fname)\n",
    "    df.rename(columns={col: col.strip() for col in df.columns}, inplace=True)\n",
    "    return df \n",
    "    \n",
    "def pre_process(df):\n",
    "    df = df[df.columns.tolist()[:-1]]\n",
    "    df = df.fillna(0)\n",
    "    df.replace([np.inf, -np.inf], -1, inplace=True)\n",
    "    return df"
   ]
  },
  {
   "cell_type": "code",
   "execution_count": 57,
   "id": "27dd0570-5cb8-4488-809d-f8286c352024",
   "metadata": {},
   "outputs": [],
   "source": [
    "fname = \"data/CIC-IDS-2017/MachineLearningCVE/Monday-WorkingHours.pcap_ISCX.csv\"\n",
    "df = read_data(fname)"
   ]
  },
  {
   "cell_type": "code",
   "execution_count": 58,
   "id": "f00ddae2-d2d1-40e3-ab99-be88f50e9db4",
   "metadata": {},
   "outputs": [
    {
     "data": {
      "text/plain": [
       "<Axes: xlabel='Fwd Packet Length Mean', ylabel='Proportion'>"
      ]
     },
     "execution_count": 58,
     "metadata": {},
     "output_type": "execute_result"
    },
    {
     "data": {
      "image/png": "[encoded data removed]",
      "text/plain": [
       "<Figure size 640x480 with 1 Axes>"
      ]
     },
     "metadata": {},
     "output_type": "display_data"
    }
   ],
   "source": [
    "sns.ecdfplot(data=df, x=\"Fwd Packet Length Mean\", hue=\"Label\")"
   ]
  },
  {
   "cell_type": "markdown",
   "id": "079c973a-08fd-4901-9810-8c14ca879211",
   "metadata": {},
   "source": [
    "**Exercise**: Read data from Wednesday and plot the distribution for a given feature for both benign and attack traffic. "
   ]
  },
  {
   "cell_type": "code",
   "execution_count": 60,
   "id": "9973d690-0815-4233-a55c-a8a9076b1f40",
   "metadata": {},
   "outputs": [],
   "source": [
    "features = ['Destination Port', 'Flow Duration', 'Total Fwd Packets',\n",
    "       'Total Backward Packets', 'Total Length of Fwd Packets',\n",
    "       'Total Length of Bwd Packets', 'Fwd Packet Length Max',\n",
    "       'Fwd Packet Length Min', 'Fwd Packet Length Mean',\n",
    "       'Fwd Packet Length Std', 'Bwd Packet Length Max',\n",
    "       'Bwd Packet Length Min', 'Bwd Packet Length Mean',\n",
    "       'Bwd Packet Length Std', 'Flow Bytes/s', 'Flow Packets/s',\n",
    "       'Flow IAT Mean', 'Flow IAT Std', 'Flow IAT Max', 'Flow IAT Min',\n",
    "       'Fwd IAT Total', 'Fwd IAT Mean', 'Fwd IAT Std', 'Fwd IAT Max',\n",
    "       'Fwd IAT Min', 'Bwd IAT Total', 'Bwd IAT Mean', 'Bwd IAT Std',\n",
    "       'Bwd IAT Max', 'Bwd IAT Min']"
   ]
  },
  {
   "cell_type": "code",
   "execution_count": null,
   "id": "42acf7c1-b428-4f68-8fc7-cac0cc982373",
   "metadata": {},
   "outputs": [],
   "source": [
    "## Code Here "
   ]
  },
  {
   "cell_type": "markdown",
   "id": "1f8e2ca9-809e-45f9-95fa-8db152f0be6b",
   "metadata": {},
   "source": [
    "## Step 2: Anomaly Detection "
   ]
  },
  {
   "cell_type": "markdown",
   "id": "03fc6ec2-4f52-478b-b1e6-fa750a8fc9ce",
   "metadata": {},
   "source": [
    "Read the Monday data and use it as the training data to train an Isolation Forest. Now test it over the data from Thursday. Report the accuracy metrics. "
   ]
  },
  {
   "cell_type": "code",
   "execution_count": 34,
   "id": "3b883bf9-ad0f-4a81-84f9-51112cb9bc00",
   "metadata": {},
   "outputs": [],
   "source": [
    "train_file = \"data/CIC-IDS-2017/MachineLearningCVE/Monday-WorkingHours.pcap_ISCX.csv\"\n",
    "df_train = read_data(train_file)\n",
    "X_train = pre_process(df_train)\n",
    "\n",
    "test_file = \"data/CIC-IDS-2017/MachineLearningCVE/Thursday-WorkingHours-Afternoon-Infilteration.pcap_ISCX.csv\"\n",
    "df_test = read_data(test_file)\n",
    "X_test = pre_process(df_test)"
   ]
  },
  {
   "cell_type": "code",
   "execution_count": 61,
   "id": "ffea9a57-5944-4319-93c6-775fb8a1e226",
   "metadata": {},
   "outputs": [],
   "source": [
    "## Code Here "
   ]
  },
  {
   "cell_type": "markdown",
   "id": "2c64bd7e-106c-4ccd-b4a7-971c3e3caab6",
   "metadata": {},
   "source": [
    "**Next Step**: Repeat the same for other days (Tuesday-Friday) and report the accuracy metrics. "
   ]
  },
  {
   "cell_type": "markdown",
   "id": "505fada3-e735-4009-8a22-62a6ce2f93f6",
   "metadata": {},
   "source": [
    "## Thought Questions"
   ]
  },
  {
   "cell_type": "markdown",
   "id": "bc131770-13a8-4368-a01c-d26e9fba670d",
   "metadata": {},
   "source": [
    "- Can you think of ways to improve the accuracy. How?"
   ]
  }
 ],
 "metadata": {
  "kernelspec": {
   "display_name": "Python 3 (ipykernel)",
   "language": "python",
   "name": "python3"
  },
  "language_info": {
   "codemirror_mode": {
    "name": "ipython",
    "version": 3
   },
   "file_extension": ".py",
   "mimetype": "text/x-python",
   "name": "python",
   "nbconvert_exporter": "python",
   "pygments_lexer": "ipython3",
   "version": "3.12.1"
  }
 },
 "nbformat": 4,
 "nbformat_minor": 5
}
